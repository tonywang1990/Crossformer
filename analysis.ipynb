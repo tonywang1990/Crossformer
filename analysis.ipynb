{
 "cells": [
  {
   "cell_type": "code",
   "execution_count": 21,
   "metadata": {},
   "outputs": [
    {
     "data": {
      "text/plain": [
       "['preds', 'trues', 'ts']"
      ]
     },
     "execution_count": 21,
     "metadata": {},
     "output_type": "execute_result"
    }
   ],
   "source": [
    "import numpy as np\n",
    "npz = np.load('./checkpoints/futs_01_31_20_57_40_il2048_ol1_sl32_win2_fa10_dm256_nh4_el3_itr0/output.npz')\n",
    "print(npz.files)\n",
    "\n",
    "pred = npz['preds'].flatten()\n",
    "target = npz['trues'].flatten()\n",
    "ts = npz['ts'].flatten()\n",
    "\n",
    "ts_sorted_id = np.argsort(ts)\n",
    "pred = pred[ts_sorted_id]\n",
    "target = target[ts_sorted_id]\n",
    "ts = ts[ts_sorted_id]\n",
    "\n",
    "print(\"Corr: \", np.corrcoef(pred, target))\n",
    "from sklearn.metrics import r2_score\n",
    "print(\"R2: \", r2_score(target, pred))\n",
    "\n",
    "import pandas as pd\n",
    "data = pd.DataFrame({'ts':ts, 'pred': pred, 'target': target})"
   ]
  }
 ],
 "metadata": {
  "kernelspec": {
   "display_name": "Python 3 (ipykernel)",
   "language": "python",
   "name": "python3"
  },
  "language_info": {
   "codemirror_mode": {
    "name": "ipython",
    "version": 3
   },
   "file_extension": ".py",
   "mimetype": "text/x-python",
   "name": "python",
   "nbconvert_exporter": "python",
   "pygments_lexer": "ipython3",
   "version": "3.10.12"
  }
 },
 "nbformat": 4,
 "nbformat_minor": 2
}
